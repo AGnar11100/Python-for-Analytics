{
  "nbformat": 4,
  "nbformat_minor": 0,
  "metadata": {
    "colab": {
      "provenance": []
    },
    "kernelspec": {
      "name": "python3",
      "display_name": "Python 3"
    },
    "language_info": {
      "name": "python"
    }
  },
  "cells": [
    {
      "cell_type": "code",
      "execution_count": 1,
      "metadata": {
        "id": "7LDaj11jOV0b"
      },
      "outputs": [],
      "source": [
        "import os\n",
        "import re\n",
        "import pandas as pd\n",
        "import numpy as np\n",
        "import matplotlib.pyplot as plt\n",
        "import seaborn as sns\n",
        "\n",
        "# Set the color palette to a colorblind-friendly palette\n",
        "sns.set_palette('colorblind')"
      ]
    },
    {
      "cell_type": "code",
      "source": [
        "def concat_weather_files(list_of_files=[]):\n",
        "  for filename in os.listdir():\n",
        "    search = re.search(\"^[0-9].+to+\",filename)\n",
        "    try:\n",
        "      search[0]\n",
        "      list_of_files.append(filename)\n",
        "    except:\n",
        "      print(\"ERROR: Not a weather file.\")\n",
        "\n",
        "  frames = [pd.read_csv(f) for f in list_of_files]\n",
        "  return pd.concat(frames)"
      ],
      "metadata": {
        "id": "5c-9HwpcUfvT"
      },
      "execution_count": 2,
      "outputs": []
    },
    {
      "cell_type": "code",
      "source": [
        "# concat weather files and rename 'name' to 'zipcode' to join with geo data zipcode\n",
        "files = []\n",
        "weather_df = concat_weather_files(files)\n",
        "weather_df['zipcode'] = weather_df['name']\n",
        "weather_df = weather_df.drop('name', axis=1)"
      ],
      "metadata": {
        "id": "XNE8YRuEuuGo"
      },
      "execution_count": null,
      "outputs": []
    },
    {
      "cell_type": "code",
      "source": [
        "# retrieve the geo data\n",
        "try:\n",
        "  geo_data = pd.DataFrame(pd.read_csv(\"geo-data.csv\"))\n",
        "except:\n",
        "  print(\"ERROR: could not read in geo data.\")"
      ],
      "metadata": {
        "id": "qSG7wpJhY-Yl"
      },
      "execution_count": 4,
      "outputs": []
    },
    {
      "cell_type": "code",
      "source": [
        "# gather the set of zipcodes we need from the geo data\n",
        "weather_zips = list(set([str(v) for v in weather_df['zipcode'].values]))\n",
        "geo_df = geo_data.loc[geo_data['zipcode'].isin(weather_zips)]"
      ],
      "metadata": {
        "id": "VBMgTh_knOTO"
      },
      "execution_count": 5,
      "outputs": []
    },
    {
      "cell_type": "code",
      "source": [
        "# check for nulls\n",
        "geo_df.apply(lambda x: x.isnull().any())"
      ],
      "metadata": {
        "id": "_XrFAmnauNyT"
      },
      "execution_count": null,
      "outputs": []
    },
    {
      "cell_type": "code",
      "source": [
        "# fill state null values by mapping there abbreviation to their full name\n",
        "states = np.sort(list(set([str(v) for v in geo_df['state'].values])))[:-1]\n",
        "states_abbr = np.sort(list(set([str(v) for v in geo_df['state_abbr'].values])))\n",
        "state_identity = dict(zip(states_abbr,states))\n",
        "\n",
        "geo_df.loc[geo_df['state'].isnull(), 'state'] = geo_df.loc[geo_df['state'].isnull(), 'state_abbr'].map(state_identity)\n",
        "geo_df.apply(lambda x: x.isnull().any())"
      ],
      "metadata": {
        "id": "Sn4zmYt0vam_"
      },
      "execution_count": null,
      "outputs": []
    },
    {
      "cell_type": "code",
      "source": [
        "# prep for before merging\n",
        "geo_df = geo_df.copy()\n",
        "weather_df = weather_df.copy()\n",
        "\n",
        "weather_df['zipcode'] = weather_df['zipcode'].astype(\"string\")\n",
        "geo_df['zipcode'] = geo_df['zipcode'].astype(\"string\")"
      ],
      "metadata": {
        "id": "QpwBXdeWNbF-"
      },
      "execution_count": 8,
      "outputs": []
    },
    {
      "cell_type": "code",
      "source": [
        "# merge into one\n",
        "weather_geo_df = pd.merge(weather_df, geo_df, on='zipcode', how='inner')"
      ],
      "metadata": {
        "id": "xIuMNQMcJqb5"
      },
      "execution_count": 9,
      "outputs": []
    },
    {
      "cell_type": "code",
      "source": [
        "# Stacked Bar Chart: For each month gather the max temperate for that month in each zip code\n",
        "weather_geo_df['datetime'] = pd.to_datetime(weather_geo_df['datetime'])\n",
        "weather_geo_df['Month'] = weather_geo_df['datetime'].dt.month\n",
        "\n",
        "pivot_table = weather_geo_df.pivot_table(index=['Month', 'zipcode'], values='tempmax')\n",
        "pivot_table.unstack().plot(kind='bar', stacked=True)\n",
        "\n",
        "# Create Bar Chart\n",
        "plt.xlabel('Month')\n",
        "plt.ylabel('Max Temperature')\n",
        "plt.title('Max Temperatures for Each Zip Code by Month')\n",
        "plt.legend(labels=weather_zips, fontsize='7')\n",
        "plt.show()"
      ],
      "metadata": {
        "id": "byM-6yS1HhJ1"
      },
      "execution_count": null,
      "outputs": []
    },
    {
      "cell_type": "code",
      "source": [
        "# Draw a line graph of average temp of each zip code for month\n",
        "pivot_table = weather_geo_df.pivot_table(index=['Month', 'zipcode'], values='temp', aggfunc='mean')\n",
        "pivot_table.reset_index(inplace=True)\n",
        "\n",
        "# Create a line graph of average temp for each zip code\n",
        "for zipcode, group in pivot_table.groupby('zipcode'):\n",
        "    plt.plot(group['Month'], group['temp'], marker='o', label=f'Zip Code {zipcode}')\n",
        "\n",
        "plt.xlabel('Month')\n",
        "plt.ylabel('Average Temperature')\n",
        "plt.title('Average Temperature for Each Zip Code by Month')\n",
        "plt.xticks(range(1, 13))\n",
        "plt.legend(title='Zip Code', fontsize='7')\n",
        "plt.show()"
      ],
      "metadata": {
        "id": "lIxPRLPTixts"
      },
      "execution_count": null,
      "outputs": []
    }
  ]
}