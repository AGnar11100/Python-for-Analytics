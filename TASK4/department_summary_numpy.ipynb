{
  "nbformat": 4,
  "nbformat_minor": 0,
  "metadata": {
    "colab": {
      "provenance": []
    },
    "kernelspec": {
      "name": "python3",
      "display_name": "Python 3"
    },
    "language_info": {
      "name": "python"
    }
  },
  "cells": [
    {
      "cell_type": "code",
      "execution_count": 6,
      "metadata": {
        "id": "SybJb9FWtZYh"
      },
      "outputs": [],
      "source": [
        "import pandas as pd\n",
        "import numpy as np"
      ]
    },
    {
      "cell_type": "code",
      "source": [
        "try:\n",
        "  salaries_df = pd.read_csv(\"emp_base_salaries_homework4.csv\")\n",
        "except:\n",
        "  print(\"Error: CSV file does not exist in present working directory\")"
      ],
      "metadata": {
        "id": "7JF4FNwbuOoE"
      },
      "execution_count": 7,
      "outputs": []
    },
    {
      "cell_type": "code",
      "source": [
        "# calc hourly salary of BasePay for each employee where avg # of hours for 2011 is 1778\n",
        "# Use this number to calculate the hourly rate for each salary type.\n",
        "salaries_df['HourlyPay'] = np.round(np.divide(np.array(salaries_df['BasePay']),np.full(1,fill_value=1778)))"
      ],
      "metadata": {
        "id": "2oz-lMv4xHW4"
      },
      "execution_count": 8,
      "outputs": []
    },
    {
      "cell_type": "code",
      "source": [
        "# calc mean of base hourly salary of each employeeType\n",
        "# for each employeeType, sum(Hourly Pay) / count(empid by employeetype)\n",
        "mean_hourly_IC = np.sum(np.array(salaries_df['HourlyPay'][salaries_df['EmployeeType'] == \"IC\"])) / len(np.array(salaries_df[salaries_df['EmployeeType'] == \"IC\"]))\n",
        "mean_hourly_MGR = np.sum(np.array(salaries_df['HourlyPay'][salaries_df['EmployeeType'] == \"MGR\"])) / len(np.array(salaries_df[salaries_df['EmployeeType'] == \"MGR\"]))\n",
        "mean_hourly_APRT = np.sum(np.array(salaries_df['HourlyPay'][salaries_df['EmployeeType'] == \"APRT\"])) / len(np.array(salaries_df[salaries_df['EmployeeType'] == \"APRT\"]))"
      ],
      "metadata": {
        "id": "ROg-IL_bzCZj"
      },
      "execution_count": 9,
      "outputs": []
    },
    {
      "cell_type": "code",
      "source": [
        "# calc the sd of base hourly salary for each employeeType\n",
        "sd_hourly_IC = np.std(np.array(salaries_df['HourlyPay'][salaries_df['EmployeeType'] == \"IC\"]))\n",
        "sd_hourly_MGR = np.std(np.array(salaries_df['HourlyPay'][salaries_df['EmployeeType'] == \"MGR\"]))\n",
        "sd_hourly_APRT = np.std(np.array(salaries_df['HourlyPay'][salaries_df['EmployeeType'] == \"APRT\"]))"
      ],
      "metadata": {
        "id": "wyLiy4I_z0W4"
      },
      "execution_count": 10,
      "outputs": []
    },
    {
      "cell_type": "code",
      "source": [
        "def stats_to_file(dataframe, filehandle):\n",
        "  comma = \",\"\n",
        "\n",
        "  filehandle.writelines([\"Emp_id\", comma, \"hr_base_pay\", \"\\n\"])\n",
        "\n",
        "  for i in range(len(dataframe)):\n",
        "    id = str(int(np.array(dataframe[\"Id\"][i])))\n",
        "    hr_pay = str(int(np.array(dataframe[\"HourlyPay\"][i])))\n",
        "    filehandle.writelines([id,comma, hr_pay, \"\\n\"])\n",
        "\n",
        "  filehandle.writelines([\"1:\", str(mean_hourly_MGR) , comma,\n",
        "                        \"2:\", str(mean_hourly_IC), comma,\n",
        "                        \"3:\", str(mean_hourly_APRT), \"\\n\"])\n",
        "  filehandle.writelines([\"1:\", str(sd_hourly_MGR), comma,\n",
        "                        \"2:\", str(sd_hourly_IC), comma,\n",
        "                        \"3:\", str(sd_hourly_APRT)])\n",
        "\n",
        "  filehandle.close()"
      ],
      "metadata": {
        "id": "hOQKOYOnz5PO"
      },
      "execution_count": null,
      "outputs": []
    },
    {
      "cell_type": "code",
      "source": [
        "out_handle = open(\"ed2149_stats.txt\", 'w')\n",
        "stats_to_file(salaries_df, out_handle)"
      ],
      "metadata": {
        "id": "yg4LI_7QXlZS"
      },
      "execution_count": 13,
      "outputs": []
    },
    {
      "cell_type": "code",
      "source": [
        "!head -2 ed2149_stats.txt"
      ],
      "metadata": {
        "colab": {
          "base_uri": "https://localhost:8080/"
        },
        "id": "NQxDKQ_YKJAQ",
        "outputId": "8649ae9a-6f35-4281-b551-c0332d954913"
      },
      "execution_count": 17,
      "outputs": [
        {
          "output_type": "stream",
          "name": "stdout",
          "text": [
            "Emp_id,hr_base_pay\n",
            "101,94\n"
          ]
        }
      ]
    },
    {
      "cell_type": "code",
      "source": [
        "!tail -2 ed2149_stats.txt"
      ],
      "metadata": {
        "id": "UUt-Wz43KPAN",
        "colab": {
          "base_uri": "https://localhost:8080/"
        },
        "outputId": "e2ce49d3-c5b2-41c4-d812-20febeb0292c"
      },
      "execution_count": 18,
      "outputs": [
        {
          "output_type": "stream",
          "name": "stdout",
          "text": [
            "1:100.34285714285714,2:106.6,3:87.48571428571428\n",
            "1:28.238719980240766,2:32.63290772619974,3:30.342211453985477"
          ]
        }
      ]
    }
  ]
}